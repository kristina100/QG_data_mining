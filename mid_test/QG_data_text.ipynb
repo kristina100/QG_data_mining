{
 "cells": [
  {
   "cell_type": "markdown",
   "metadata": {},
   "source": [
    "# Introduction\n",
    "#### 数据集\n",
    "针对培训课程测试明智的学员绩效数据集  \n",
    "#### 任务\n",
    "是根据人口统计信息和培训计划/测试详细信息来预测此类测试的性能。  \n",
    "#### 目的\n",
    "通过找出最重要的因素来提高受训者的参与度和表现，这将使该公司加强其培训问题"
   ]
  },
  {
   "cell_type": "markdown",
   "metadata": {},
   "source": [
    "# descriptive features\n",
    "- id_num  唯一ID\n",
    "- program_id  程序的ID\n",
    "- program_type  程序类型\n",
    "- program_duration  计划持续时间（天）\n",
    "- test_id  测试ID\n",
    "- test_type  测试类型（离线/在线）\n",
    "- difficulty_level  测试难度级别\n",
    "- trainee_id  学员的ID\n",
    "- gender  受训者性别\n",
    "- education  学员的教育水平\n",
    "- city_tier  实习生居住城市的等级\n",
    "- age  受训者年龄\n",
    "- total_programs_enrolled  总课程的学生通过实习\n",
    "- is_handicapped  受训者是否患有残疾？\n",
    "- trainee_engagement_rating  讲师/教学助理为课程提供学员参与度\n",
    "- is_pass 0  测试失败，1  测试通过"
   ]
  },
  {
   "cell_type": "code",
   "execution_count": 15,
   "metadata": {},
   "outputs": [],
   "source": [
    "import numpy as np\n",
    "import pandas as pd "
   ]
  },
  {
   "cell_type": "code",
   "execution_count": 16,
   "metadata": {},
   "outputs": [],
   "source": [
    "#可视化用的库\n",
    "import matplotlib.pyplot as plt\n",
    "import seaborn as sns\n",
    "import plotly \n",
    "import plotly.graph_objs as go\n",
    "import plotly.io as pio\n",
    "from plotly.subplots import make_subplots\n",
    "import plotly.express as px\n",
    "from plotly.offline import iplot, init_notebook_mode\n",
    "import cufflinks as cf\n",
    "import matplotlib as mpl\n",
    "import matplotlib.pyplot as plt\n",
    "import matplotlib.pylab as pylab"
   ]
  },
  {
   "cell_type": "markdown",
   "metadata": {},
   "source": [
    "导入数据"
   ]
  },
  {
   "cell_type": "code",
   "execution_count": 17,
   "metadata": {},
   "outputs": [],
   "source": [
    "train = pd.read_csv(\"mid_term_exams/data/train/train.csv\",encoding='utf-8')\n",
    "test = pd.read_csv('mid_term_exams/data/test/test2.csv',encoding='utf-8')\n",
    "\n",
    "#数据集copy\n",
    "train_org = train.copy()\n",
    "test_org = test.copy()"
   ]
  },
  {
   "cell_type": "markdown",
   "metadata": {},
   "source": [
    "简单数据eda"
   ]
  },
  {
   "cell_type": "code",
   "execution_count": 18,
   "metadata": {},
   "outputs": [
    {
     "data": {
      "text/plain": [
       "(49998, 11465)"
      ]
     },
     "execution_count": 18,
     "metadata": {},
     "output_type": "execute_result"
    }
   ],
   "source": [
    "len(train),len(test)"
   ]
  },
  {
   "cell_type": "code",
   "execution_count": 19,
   "metadata": {},
   "outputs": [
    {
     "data": {
      "text/html": [
       "<div>\n",
       "<style scoped>\n",
       "    .dataframe tbody tr th:only-of-type {\n",
       "        vertical-align: middle;\n",
       "    }\n",
       "\n",
       "    .dataframe tbody tr th {\n",
       "        vertical-align: top;\n",
       "    }\n",
       "\n",
       "    .dataframe thead th {\n",
       "        text-align: right;\n",
       "    }\n",
       "</style>\n",
       "<table border=\"1\" class=\"dataframe\">\n",
       "  <thead>\n",
       "    <tr style=\"text-align: right;\">\n",
       "      <th></th>\n",
       "      <th>id_num</th>\n",
       "      <th>program_type</th>\n",
       "      <th>program_id</th>\n",
       "      <th>program_duration</th>\n",
       "      <th>test_id</th>\n",
       "      <th>test_type</th>\n",
       "      <th>difficulty_level</th>\n",
       "      <th>trainee_id</th>\n",
       "      <th>gender</th>\n",
       "      <th>education</th>\n",
       "      <th>city_tier</th>\n",
       "      <th>age</th>\n",
       "      <th>total_programs_enrolled</th>\n",
       "      <th>is_handicapped</th>\n",
       "      <th>trainee_engagement_rating</th>\n",
       "      <th>is_pass</th>\n",
       "    </tr>\n",
       "  </thead>\n",
       "  <tbody>\n",
       "    <tr>\n",
       "      <th>0</th>\n",
       "      <td>9389_150</td>\n",
       "      <td>Y</td>\n",
       "      <td>Y_1</td>\n",
       "      <td>136.0</td>\n",
       "      <td>150.0</td>\n",
       "      <td>offline</td>\n",
       "      <td>intermediate</td>\n",
       "      <td>9389.0</td>\n",
       "      <td>M</td>\n",
       "      <td>Matriculation</td>\n",
       "      <td>3.0</td>\n",
       "      <td>24.0</td>\n",
       "      <td>5.0</td>\n",
       "      <td>N</td>\n",
       "      <td>1.0</td>\n",
       "      <td>0</td>\n",
       "    </tr>\n",
       "    <tr>\n",
       "      <th>1</th>\n",
       "      <td>16523_44</td>\n",
       "      <td>T</td>\n",
       "      <td>T_1</td>\n",
       "      <td>131.0</td>\n",
       "      <td>44.0</td>\n",
       "      <td>offline</td>\n",
       "      <td>easy</td>\n",
       "      <td>16523.0</td>\n",
       "      <td>F</td>\n",
       "      <td>High School Diploma</td>\n",
       "      <td>4.0</td>\n",
       "      <td>26.0</td>\n",
       "      <td>2.0</td>\n",
       "      <td>N</td>\n",
       "      <td>3.0</td>\n",
       "      <td>1</td>\n",
       "    </tr>\n",
       "    <tr>\n",
       "      <th>2</th>\n",
       "      <td>13987_178</td>\n",
       "      <td>Z</td>\n",
       "      <td>Z_2</td>\n",
       "      <td>120.0</td>\n",
       "      <td>178.0</td>\n",
       "      <td>online</td>\n",
       "      <td>easy</td>\n",
       "      <td>13987.0</td>\n",
       "      <td>M</td>\n",
       "      <td>Matriculation</td>\n",
       "      <td>1.0</td>\n",
       "      <td>40.0</td>\n",
       "      <td>1.0</td>\n",
       "      <td>N</td>\n",
       "      <td>2.0</td>\n",
       "      <td>1</td>\n",
       "    </tr>\n",
       "    <tr>\n",
       "      <th>3</th>\n",
       "      <td>13158_32</td>\n",
       "      <td>T</td>\n",
       "      <td>T_2</td>\n",
       "      <td>117.0</td>\n",
       "      <td>32.0</td>\n",
       "      <td>offline</td>\n",
       "      <td>easy</td>\n",
       "      <td>13158.0</td>\n",
       "      <td>F</td>\n",
       "      <td>Matriculation</td>\n",
       "      <td>3.0</td>\n",
       "      <td>NaN</td>\n",
       "      <td>4.0</td>\n",
       "      <td>N</td>\n",
       "      <td>1.0</td>\n",
       "      <td>1</td>\n",
       "    </tr>\n",
       "    <tr>\n",
       "      <th>4</th>\n",
       "      <td>10591_84</td>\n",
       "      <td>V</td>\n",
       "      <td>V_3</td>\n",
       "      <td>131.0</td>\n",
       "      <td>84.0</td>\n",
       "      <td>offline</td>\n",
       "      <td>intermediate</td>\n",
       "      <td>10591.0</td>\n",
       "      <td>F</td>\n",
       "      <td>High School Diploma</td>\n",
       "      <td>1.0</td>\n",
       "      <td>42.0</td>\n",
       "      <td>2.0</td>\n",
       "      <td>N</td>\n",
       "      <td>4.0</td>\n",
       "      <td>1</td>\n",
       "    </tr>\n",
       "  </tbody>\n",
       "</table>\n",
       "</div>"
      ],
      "text/plain": [
       "      id_num program_type program_id  program_duration  test_id test_type  \\\n",
       "0   9389_150            Y        Y_1             136.0    150.0   offline   \n",
       "1   16523_44            T        T_1             131.0     44.0   offline   \n",
       "2  13987_178            Z        Z_2             120.0    178.0    online   \n",
       "3   13158_32            T        T_2             117.0     32.0   offline   \n",
       "4   10591_84            V        V_3             131.0     84.0   offline   \n",
       "\n",
       "  difficulty_level  trainee_id gender            education  city_tier   age  \\\n",
       "0     intermediate      9389.0      M        Matriculation        3.0  24.0   \n",
       "1             easy     16523.0      F  High School Diploma        4.0  26.0   \n",
       "2             easy     13987.0      M        Matriculation        1.0  40.0   \n",
       "3             easy     13158.0      F        Matriculation        3.0   NaN   \n",
       "4     intermediate     10591.0      F  High School Diploma        1.0  42.0   \n",
       "\n",
       "   total_programs_enrolled is_handicapped  trainee_engagement_rating  is_pass  \n",
       "0                      5.0              N                        1.0        0  \n",
       "1                      2.0              N                        3.0        1  \n",
       "2                      1.0              N                        2.0        1  \n",
       "3                      4.0              N                        1.0        1  \n",
       "4                      2.0              N                        4.0        1  "
      ]
     },
     "execution_count": 19,
     "metadata": {},
     "output_type": "execute_result"
    }
   ],
   "source": [
    "train.head()"
   ]
  },
  {
   "cell_type": "code",
   "execution_count": 20,
   "metadata": {},
   "outputs": [
    {
     "name": "stdout",
     "output_type": "stream",
     "text": [
      "<class 'pandas.core.frame.DataFrame'>\n",
      "RangeIndex: 49998 entries, 0 to 49997\n",
      "Data columns (total 16 columns):\n",
      " #   Column                     Non-Null Count  Dtype  \n",
      "---  ------                     --------------  -----  \n",
      " 0   id_num                     49998 non-null  object \n",
      " 1   program_type               49267 non-null  object \n",
      " 2   program_id                 49299 non-null  object \n",
      " 3   program_duration           49323 non-null  float64\n",
      " 4   test_id                    49273 non-null  float64\n",
      " 5   test_type                  49296 non-null  object \n",
      " 6   difficulty_level           49295 non-null  object \n",
      " 7   trainee_id                 49259 non-null  float64\n",
      " 8   gender                     49291 non-null  object \n",
      " 9   education                  49296 non-null  object \n",
      " 10  city_tier                  49298 non-null  float64\n",
      " 11  age                        30619 non-null  float64\n",
      " 12  total_programs_enrolled    49306 non-null  float64\n",
      " 13  is_handicapped             49280 non-null  object \n",
      " 14  trainee_engagement_rating  49226 non-null  float64\n",
      " 15  is_pass                    49998 non-null  int64  \n",
      "dtypes: float64(7), int64(1), object(8)\n",
      "memory usage: 6.1+ MB\n",
      "________________________________________\n",
      "<class 'pandas.core.frame.DataFrame'>\n",
      "RangeIndex: 11465 entries, 0 to 11464\n",
      "Data columns (total 16 columns):\n",
      " #   Column                     Non-Null Count  Dtype  \n",
      "---  ------                     --------------  -----  \n",
      " 0   id_num                     11465 non-null  object \n",
      " 1   program_type               11465 non-null  object \n",
      " 2   program_id                 11465 non-null  object \n",
      " 3   program_duration           11465 non-null  int64  \n",
      " 4   test_id                    11465 non-null  int64  \n",
      " 5   test_type                  11465 non-null  object \n",
      " 6   difficulty_level           11465 non-null  object \n",
      " 7   trainee_id                 11465 non-null  int64  \n",
      " 8   gender                     11465 non-null  object \n",
      " 9   education                  11465 non-null  object \n",
      " 10  city_tier                  11465 non-null  int64  \n",
      " 11  age                        7068 non-null   float64\n",
      " 12  total_programs_enrolled    11465 non-null  int64  \n",
      " 13  is_handicapped             11465 non-null  object \n",
      " 14  trainee_engagement_rating  11451 non-null  float64\n",
      " 15  is_pass                    0 non-null      float64\n",
      "dtypes: float64(3), int64(5), object(8)\n",
      "memory usage: 1.4+ MB\n"
     ]
    }
   ],
   "source": [
    "train.info()\n",
    "print('_'*40)\n",
    "test.info()"
   ]
  },
  {
   "cell_type": "code",
   "execution_count": 21,
   "metadata": {},
   "outputs": [
    {
     "data": {
      "text/html": [
       "<div>\n",
       "<style scoped>\n",
       "    .dataframe tbody tr th:only-of-type {\n",
       "        vertical-align: middle;\n",
       "    }\n",
       "\n",
       "    .dataframe tbody tr th {\n",
       "        vertical-align: top;\n",
       "    }\n",
       "\n",
       "    .dataframe thead th {\n",
       "        text-align: right;\n",
       "    }\n",
       "</style>\n",
       "<table border=\"1\" class=\"dataframe\">\n",
       "  <thead>\n",
       "    <tr style=\"text-align: right;\">\n",
       "      <th></th>\n",
       "      <th>Column type</th>\n",
       "    </tr>\n",
       "  </thead>\n",
       "  <tbody>\n",
       "    <tr>\n",
       "      <th>id_num</th>\n",
       "      <td>object</td>\n",
       "    </tr>\n",
       "    <tr>\n",
       "      <th>program_type</th>\n",
       "      <td>object</td>\n",
       "    </tr>\n",
       "    <tr>\n",
       "      <th>program_id</th>\n",
       "      <td>object</td>\n",
       "    </tr>\n",
       "    <tr>\n",
       "      <th>program_duration</th>\n",
       "      <td>float64</td>\n",
       "    </tr>\n",
       "    <tr>\n",
       "      <th>test_id</th>\n",
       "      <td>float64</td>\n",
       "    </tr>\n",
       "    <tr>\n",
       "      <th>test_type</th>\n",
       "      <td>object</td>\n",
       "    </tr>\n",
       "    <tr>\n",
       "      <th>difficulty_level</th>\n",
       "      <td>object</td>\n",
       "    </tr>\n",
       "    <tr>\n",
       "      <th>trainee_id</th>\n",
       "      <td>float64</td>\n",
       "    </tr>\n",
       "    <tr>\n",
       "      <th>gender</th>\n",
       "      <td>object</td>\n",
       "    </tr>\n",
       "    <tr>\n",
       "      <th>education</th>\n",
       "      <td>object</td>\n",
       "    </tr>\n",
       "    <tr>\n",
       "      <th>city_tier</th>\n",
       "      <td>float64</td>\n",
       "    </tr>\n",
       "    <tr>\n",
       "      <th>age</th>\n",
       "      <td>float64</td>\n",
       "    </tr>\n",
       "    <tr>\n",
       "      <th>total_programs_enrolled</th>\n",
       "      <td>float64</td>\n",
       "    </tr>\n",
       "    <tr>\n",
       "      <th>is_handicapped</th>\n",
       "      <td>object</td>\n",
       "    </tr>\n",
       "    <tr>\n",
       "      <th>trainee_engagement_rating</th>\n",
       "      <td>float64</td>\n",
       "    </tr>\n",
       "    <tr>\n",
       "      <th>is_pass</th>\n",
       "      <td>int64</td>\n",
       "    </tr>\n",
       "  </tbody>\n",
       "</table>\n",
       "</div>"
      ],
      "text/plain": [
       "                          Column type\n",
       "id_num                         object\n",
       "program_type                   object\n",
       "program_id                     object\n",
       "program_duration              float64\n",
       "test_id                       float64\n",
       "test_type                      object\n",
       "difficulty_level               object\n",
       "trainee_id                    float64\n",
       "gender                         object\n",
       "education                      object\n",
       "city_tier                     float64\n",
       "age                           float64\n",
       "total_programs_enrolled       float64\n",
       "is_handicapped                 object\n",
       "trainee_engagement_rating     float64\n",
       "is_pass                         int64"
      ]
     },
     "execution_count": 21,
     "metadata": {},
     "output_type": "execute_result"
    }
   ],
   "source": [
    "train.dtypes.to_frame().rename(columns={0:'Column type'})"
   ]
  },
  {
   "cell_type": "code",
   "execution_count": 22,
   "metadata": {},
   "outputs": [
    {
     "data": {
      "text/html": [
       "<div>\n",
       "<style scoped>\n",
       "    .dataframe tbody tr th:only-of-type {\n",
       "        vertical-align: middle;\n",
       "    }\n",
       "\n",
       "    .dataframe tbody tr th {\n",
       "        vertical-align: top;\n",
       "    }\n",
       "\n",
       "    .dataframe thead th {\n",
       "        text-align: right;\n",
       "    }\n",
       "</style>\n",
       "<table border=\"1\" class=\"dataframe\">\n",
       "  <thead>\n",
       "    <tr style=\"text-align: right;\">\n",
       "      <th></th>\n",
       "      <th>Null values</th>\n",
       "    </tr>\n",
       "  </thead>\n",
       "  <tbody>\n",
       "    <tr>\n",
       "      <th>id_num</th>\n",
       "      <td>0</td>\n",
       "    </tr>\n",
       "    <tr>\n",
       "      <th>program_type</th>\n",
       "      <td>731</td>\n",
       "    </tr>\n",
       "    <tr>\n",
       "      <th>program_id</th>\n",
       "      <td>699</td>\n",
       "    </tr>\n",
       "    <tr>\n",
       "      <th>program_duration</th>\n",
       "      <td>675</td>\n",
       "    </tr>\n",
       "    <tr>\n",
       "      <th>test_id</th>\n",
       "      <td>725</td>\n",
       "    </tr>\n",
       "    <tr>\n",
       "      <th>test_type</th>\n",
       "      <td>702</td>\n",
       "    </tr>\n",
       "    <tr>\n",
       "      <th>difficulty_level</th>\n",
       "      <td>703</td>\n",
       "    </tr>\n",
       "    <tr>\n",
       "      <th>trainee_id</th>\n",
       "      <td>739</td>\n",
       "    </tr>\n",
       "    <tr>\n",
       "      <th>gender</th>\n",
       "      <td>707</td>\n",
       "    </tr>\n",
       "    <tr>\n",
       "      <th>education</th>\n",
       "      <td>702</td>\n",
       "    </tr>\n",
       "    <tr>\n",
       "      <th>city_tier</th>\n",
       "      <td>700</td>\n",
       "    </tr>\n",
       "    <tr>\n",
       "      <th>age</th>\n",
       "      <td>19379</td>\n",
       "    </tr>\n",
       "    <tr>\n",
       "      <th>total_programs_enrolled</th>\n",
       "      <td>692</td>\n",
       "    </tr>\n",
       "    <tr>\n",
       "      <th>is_handicapped</th>\n",
       "      <td>718</td>\n",
       "    </tr>\n",
       "    <tr>\n",
       "      <th>trainee_engagement_rating</th>\n",
       "      <td>772</td>\n",
       "    </tr>\n",
       "    <tr>\n",
       "      <th>is_pass</th>\n",
       "      <td>0</td>\n",
       "    </tr>\n",
       "  </tbody>\n",
       "</table>\n",
       "</div>"
      ],
      "text/plain": [
       "                           Null values\n",
       "id_num                               0\n",
       "program_type                       731\n",
       "program_id                         699\n",
       "program_duration                   675\n",
       "test_id                            725\n",
       "test_type                          702\n",
       "difficulty_level                   703\n",
       "trainee_id                         739\n",
       "gender                             707\n",
       "education                          702\n",
       "city_tier                          700\n",
       "age                              19379\n",
       "total_programs_enrolled            692\n",
       "is_handicapped                     718\n",
       "trainee_engagement_rating          772\n",
       "is_pass                              0"
      ]
     },
     "execution_count": 22,
     "metadata": {},
     "output_type": "execute_result"
    }
   ],
   "source": [
    "#检查是否有缺失值\n",
    "train.isnull().sum().to_frame().rename(columns={0:'Null values'})"
   ]
  },
  {
   "cell_type": "code",
   "execution_count": 23,
   "metadata": {},
   "outputs": [
    {
     "data": {
      "text/plain": [
       "<AxesSubplot:>"
      ]
     },
     "execution_count": 23,
     "metadata": {},
     "output_type": "execute_result"
    },
    {
     "data": {
      "image/png": "[encoded data removed]",
      "text/plain": [
       "<Figure size 720x576 with 2 Axes>"
      ]
     },
     "metadata": {
      "needs_background": "light"
     },
     "output_type": "display_data"
    }
   ],
   "source": [
    "#可视化所有的缺失值\n",
    "plt.figure(figsize=(10,8));\n",
    "sns.heatmap(train.isnull(), cmap='viridis')"
   ]
  },
  {
   "cell_type": "code",
   "execution_count": 24,
   "metadata": {},
   "outputs": [
    {
     "data": {
      "text/html": [
       "<div>\n",
       "<style scoped>\n",
       "    .dataframe tbody tr th:only-of-type {\n",
       "        vertical-align: middle;\n",
       "    }\n",
       "\n",
       "    .dataframe tbody tr th {\n",
       "        vertical-align: top;\n",
       "    }\n",
       "\n",
       "    .dataframe thead th {\n",
       "        text-align: right;\n",
       "    }\n",
       "</style>\n",
       "<table border=\"1\" class=\"dataframe\">\n",
       "  <thead>\n",
       "    <tr style=\"text-align: right;\">\n",
       "      <th></th>\n",
       "      <th>program_duration</th>\n",
       "      <th>test_id</th>\n",
       "      <th>trainee_id</th>\n",
       "      <th>city_tier</th>\n",
       "      <th>age</th>\n",
       "      <th>total_programs_enrolled</th>\n",
       "      <th>trainee_engagement_rating</th>\n",
       "      <th>is_pass</th>\n",
       "    </tr>\n",
       "  </thead>\n",
       "  <tbody>\n",
       "    <tr>\n",
       "      <th>count</th>\n",
       "      <td>49323.000000</td>\n",
       "      <td>49273.000000</td>\n",
       "      <td>49259.000000</td>\n",
       "      <td>49298.000000</td>\n",
       "      <td>30619.000000</td>\n",
       "      <td>49306.000000</td>\n",
       "      <td>49226.000000</td>\n",
       "      <td>49998.000000</td>\n",
       "    </tr>\n",
       "    <tr>\n",
       "      <th>mean</th>\n",
       "      <td>128.229366</td>\n",
       "      <td>91.414345</td>\n",
       "      <td>9863.493128</td>\n",
       "      <td>2.249097</td>\n",
       "      <td>36.514256</td>\n",
       "      <td>2.583114</td>\n",
       "      <td>2.397818</td>\n",
       "      <td>0.696288</td>\n",
       "    </tr>\n",
       "    <tr>\n",
       "      <th>std</th>\n",
       "      <td>6.889967</td>\n",
       "      <td>51.307852</td>\n",
       "      <td>5716.490640</td>\n",
       "      <td>1.010896</td>\n",
       "      <td>9.045487</td>\n",
       "      <td>1.239399</td>\n",
       "      <td>1.326378</td>\n",
       "      <td>0.459864</td>\n",
       "    </tr>\n",
       "    <tr>\n",
       "      <th>min</th>\n",
       "      <td>117.000000</td>\n",
       "      <td>0.000000</td>\n",
       "      <td>1.000000</td>\n",
       "      <td>1.000000</td>\n",
       "      <td>17.000000</td>\n",
       "      <td>1.000000</td>\n",
       "      <td>1.000000</td>\n",
       "      <td>0.000000</td>\n",
       "    </tr>\n",
       "    <tr>\n",
       "      <th>25%</th>\n",
       "      <td>121.000000</td>\n",
       "      <td>45.000000</td>\n",
       "      <td>5051.500000</td>\n",
       "      <td>1.000000</td>\n",
       "      <td>28.000000</td>\n",
       "      <td>2.000000</td>\n",
       "      <td>1.000000</td>\n",
       "      <td>0.000000</td>\n",
       "    </tr>\n",
       "    <tr>\n",
       "      <th>50%</th>\n",
       "      <td>131.000000</td>\n",
       "      <td>91.000000</td>\n",
       "      <td>9665.000000</td>\n",
       "      <td>2.000000</td>\n",
       "      <td>40.000000</td>\n",
       "      <td>2.000000</td>\n",
       "      <td>2.000000</td>\n",
       "      <td>1.000000</td>\n",
       "    </tr>\n",
       "    <tr>\n",
       "      <th>75%</th>\n",
       "      <td>134.000000</td>\n",
       "      <td>135.000000</td>\n",
       "      <td>14618.000000</td>\n",
       "      <td>3.000000</td>\n",
       "      <td>45.000000</td>\n",
       "      <td>3.000000</td>\n",
       "      <td>4.000000</td>\n",
       "      <td>1.000000</td>\n",
       "    </tr>\n",
       "    <tr>\n",
       "      <th>max</th>\n",
       "      <td>136.000000</td>\n",
       "      <td>187.000000</td>\n",
       "      <td>20097.000000</td>\n",
       "      <td>4.000000</td>\n",
       "      <td>63.000000</td>\n",
       "      <td>14.000000</td>\n",
       "      <td>5.000000</td>\n",
       "      <td>1.000000</td>\n",
       "    </tr>\n",
       "  </tbody>\n",
       "</table>\n",
       "</div>"
      ],
      "text/plain": [
       "       program_duration       test_id    trainee_id     city_tier  \\\n",
       "count      49323.000000  49273.000000  49259.000000  49298.000000   \n",
       "mean         128.229366     91.414345   9863.493128      2.249097   \n",
       "std            6.889967     51.307852   5716.490640      1.010896   \n",
       "min          117.000000      0.000000      1.000000      1.000000   \n",
       "25%          121.000000     45.000000   5051.500000      1.000000   \n",
       "50%          131.000000     91.000000   9665.000000      2.000000   \n",
       "75%          134.000000    135.000000  14618.000000      3.000000   \n",
       "max          136.000000    187.000000  20097.000000      4.000000   \n",
       "\n",
       "                age  total_programs_enrolled  trainee_engagement_rating  \\\n",
       "count  30619.000000             49306.000000               49226.000000   \n",
       "mean      36.514256                 2.583114                   2.397818   \n",
       "std        9.045487                 1.239399                   1.326378   \n",
       "min       17.000000                 1.000000                   1.000000   \n",
       "25%       28.000000                 2.000000                   1.000000   \n",
       "50%       40.000000                 2.000000                   2.000000   \n",
       "75%       45.000000                 3.000000                   4.000000   \n",
       "max       63.000000                14.000000                   5.000000   \n",
       "\n",
       "            is_pass  \n",
       "count  49998.000000  \n",
       "mean       0.696288  \n",
       "std        0.459864  \n",
       "min        0.000000  \n",
       "25%        0.000000  \n",
       "50%        1.000000  \n",
       "75%        1.000000  \n",
       "max        1.000000  "
      ]
     },
     "execution_count": 24,
     "metadata": {},
     "output_type": "execute_result"
    }
   ],
   "source": [
    "train.describe()"
   ]
  },
  {
   "cell_type": "code",
   "execution_count": 25,
   "metadata": {},
   "outputs": [
    {
     "data": {
      "text/html": [
       "<div>\n",
       "<style scoped>\n",
       "    .dataframe tbody tr th:only-of-type {\n",
       "        vertical-align: middle;\n",
       "    }\n",
       "\n",
       "    .dataframe tbody tr th {\n",
       "        vertical-align: top;\n",
       "    }\n",
       "\n",
       "    .dataframe thead th {\n",
       "        text-align: right;\n",
       "    }\n",
       "</style>\n",
       "<table border=\"1\" class=\"dataframe\">\n",
       "  <thead>\n",
       "    <tr style=\"text-align: right;\">\n",
       "      <th></th>\n",
       "      <th>program_duration</th>\n",
       "      <th>test_id</th>\n",
       "      <th>trainee_id</th>\n",
       "      <th>city_tier</th>\n",
       "      <th>age</th>\n",
       "      <th>total_programs_enrolled</th>\n",
       "      <th>trainee_engagement_rating</th>\n",
       "      <th>is_pass</th>\n",
       "    </tr>\n",
       "  </thead>\n",
       "  <tbody>\n",
       "    <tr>\n",
       "      <th>count</th>\n",
       "      <td>11465.000000</td>\n",
       "      <td>11465.000000</td>\n",
       "      <td>11465.000000</td>\n",
       "      <td>11465.000000</td>\n",
       "      <td>7068.000000</td>\n",
       "      <td>11465.000000</td>\n",
       "      <td>11451.000000</td>\n",
       "      <td>0.0</td>\n",
       "    </tr>\n",
       "    <tr>\n",
       "      <th>mean</th>\n",
       "      <td>128.179067</td>\n",
       "      <td>90.116616</td>\n",
       "      <td>9801.775142</td>\n",
       "      <td>2.232708</td>\n",
       "      <td>36.352292</td>\n",
       "      <td>2.581771</td>\n",
       "      <td>2.382150</td>\n",
       "      <td>NaN</td>\n",
       "    </tr>\n",
       "    <tr>\n",
       "      <th>std</th>\n",
       "      <td>6.890919</td>\n",
       "      <td>51.172182</td>\n",
       "      <td>5658.995423</td>\n",
       "      <td>1.012618</td>\n",
       "      <td>8.993219</td>\n",
       "      <td>1.229564</td>\n",
       "      <td>1.314206</td>\n",
       "      <td>NaN</td>\n",
       "    </tr>\n",
       "    <tr>\n",
       "      <th>min</th>\n",
       "      <td>117.000000</td>\n",
       "      <td>0.000000</td>\n",
       "      <td>1.000000</td>\n",
       "      <td>1.000000</td>\n",
       "      <td>17.000000</td>\n",
       "      <td>1.000000</td>\n",
       "      <td>1.000000</td>\n",
       "      <td>NaN</td>\n",
       "    </tr>\n",
       "    <tr>\n",
       "      <th>25%</th>\n",
       "      <td>121.000000</td>\n",
       "      <td>44.000000</td>\n",
       "      <td>5054.000000</td>\n",
       "      <td>1.000000</td>\n",
       "      <td>28.000000</td>\n",
       "      <td>2.000000</td>\n",
       "      <td>1.000000</td>\n",
       "      <td>NaN</td>\n",
       "    </tr>\n",
       "    <tr>\n",
       "      <th>50%</th>\n",
       "      <td>131.000000</td>\n",
       "      <td>89.000000</td>\n",
       "      <td>9580.000000</td>\n",
       "      <td>2.000000</td>\n",
       "      <td>39.000000</td>\n",
       "      <td>2.000000</td>\n",
       "      <td>2.000000</td>\n",
       "      <td>NaN</td>\n",
       "    </tr>\n",
       "    <tr>\n",
       "      <th>75%</th>\n",
       "      <td>134.000000</td>\n",
       "      <td>134.000000</td>\n",
       "      <td>14429.000000</td>\n",
       "      <td>3.000000</td>\n",
       "      <td>45.000000</td>\n",
       "      <td>3.000000</td>\n",
       "      <td>3.000000</td>\n",
       "      <td>NaN</td>\n",
       "    </tr>\n",
       "    <tr>\n",
       "      <th>max</th>\n",
       "      <td>136.000000</td>\n",
       "      <td>187.000000</td>\n",
       "      <td>20096.000000</td>\n",
       "      <td>4.000000</td>\n",
       "      <td>59.000000</td>\n",
       "      <td>12.000000</td>\n",
       "      <td>5.000000</td>\n",
       "      <td>NaN</td>\n",
       "    </tr>\n",
       "  </tbody>\n",
       "</table>\n",
       "</div>"
      ],
      "text/plain": [
       "       program_duration       test_id    trainee_id     city_tier  \\\n",
       "count      11465.000000  11465.000000  11465.000000  11465.000000   \n",
       "mean         128.179067     90.116616   9801.775142      2.232708   \n",
       "std            6.890919     51.172182   5658.995423      1.012618   \n",
       "min          117.000000      0.000000      1.000000      1.000000   \n",
       "25%          121.000000     44.000000   5054.000000      1.000000   \n",
       "50%          131.000000     89.000000   9580.000000      2.000000   \n",
       "75%          134.000000    134.000000  14429.000000      3.000000   \n",
       "max          136.000000    187.000000  20096.000000      4.000000   \n",
       "\n",
       "               age  total_programs_enrolled  trainee_engagement_rating  \\\n",
       "count  7068.000000             11465.000000               11451.000000   \n",
       "mean     36.352292                 2.581771                   2.382150   \n",
       "std       8.993219                 1.229564                   1.314206   \n",
       "min      17.000000                 1.000000                   1.000000   \n",
       "25%      28.000000                 2.000000                   1.000000   \n",
       "50%      39.000000                 2.000000                   2.000000   \n",
       "75%      45.000000                 3.000000                   3.000000   \n",
       "max      59.000000                12.000000                   5.000000   \n",
       "\n",
       "       is_pass  \n",
       "count      0.0  \n",
       "mean       NaN  \n",
       "std        NaN  \n",
       "min        NaN  \n",
       "25%        NaN  \n",
       "50%        NaN  \n",
       "75%        NaN  \n",
       "max        NaN  "
      ]
     },
     "execution_count": 25,
     "metadata": {},
     "output_type": "execute_result"
    }
   ],
   "source": [
    "test.describe()"
   ]
  },
  {
   "cell_type": "markdown",
   "metadata": {},
   "source": [
    "开始逐一清洗数据"
   ]
  },
  {
   "cell_type": "code",
   "execution_count": 26,
   "metadata": {},
   "outputs": [],
   "source": [
    "train.difficulty_level[train.difficulty_level.isnull()] = train.difficulty_level.dropna().mode().values\n",
    "train.education[train.education.isnull()] = train.education.dropna().mode().values\n",
    "train.city_tier[train.city_tier.isnull()] = train.city_tier.dropna().mode().values\n",
    "train.age[train.age.isnull()] = train.age.dropna().mean()\n",
    "train.test_type[train.test_type.isnull()] = train.test_type.dropna().mode().values\n",
    "train.program_duration[train.program_duration.isnull()] = train.program_duration.dropna().mode().values\n",
    "train.total_programs_enrolled[train.total_programs_enrolled.isnull()] = train.total_programs_enrolled.dropna().mode().values\n",
    "train.is_handicapped[train.is_handicapped.isnull()] = train.is_handicapped.dropna().mode().values\n",
    "train.trainee_engagement_rating[train.trainee_engagement_rating.isnull()] = train.trainee_engagement_rating.dropna().mode().values\n",
    "\n",
    "#其他难以表示的缺失值直接删除\n",
    "train.dropna(axis=0, how='any', inplace=True)"
   ]
  },
  {
   "cell_type": "code",
   "execution_count": 27,
   "metadata": {},
   "outputs": [
    {
     "data": {
      "text/html": [
       "<div>\n",
       "<style scoped>\n",
       "    .dataframe tbody tr th:only-of-type {\n",
       "        vertical-align: middle;\n",
       "    }\n",
       "\n",
       "    .dataframe tbody tr th {\n",
       "        vertical-align: top;\n",
       "    }\n",
       "\n",
       "    .dataframe thead th {\n",
       "        text-align: right;\n",
       "    }\n",
       "</style>\n",
       "<table border=\"1\" class=\"dataframe\">\n",
       "  <thead>\n",
       "    <tr style=\"text-align: right;\">\n",
       "      <th></th>\n",
       "      <th>Null values</th>\n",
       "    </tr>\n",
       "  </thead>\n",
       "  <tbody>\n",
       "    <tr>\n",
       "      <th>id_num</th>\n",
       "      <td>0</td>\n",
       "    </tr>\n",
       "    <tr>\n",
       "      <th>program_type</th>\n",
       "      <td>0</td>\n",
       "    </tr>\n",
       "    <tr>\n",
       "      <th>program_id</th>\n",
       "      <td>0</td>\n",
       "    </tr>\n",
       "    <tr>\n",
       "      <th>program_duration</th>\n",
       "      <td>0</td>\n",
       "    </tr>\n",
       "    <tr>\n",
       "      <th>test_id</th>\n",
       "      <td>0</td>\n",
       "    </tr>\n",
       "    <tr>\n",
       "      <th>test_type</th>\n",
       "      <td>0</td>\n",
       "    </tr>\n",
       "    <tr>\n",
       "      <th>difficulty_level</th>\n",
       "      <td>0</td>\n",
       "    </tr>\n",
       "    <tr>\n",
       "      <th>trainee_id</th>\n",
       "      <td>0</td>\n",
       "    </tr>\n",
       "    <tr>\n",
       "      <th>gender</th>\n",
       "      <td>0</td>\n",
       "    </tr>\n",
       "    <tr>\n",
       "      <th>education</th>\n",
       "      <td>0</td>\n",
       "    </tr>\n",
       "    <tr>\n",
       "      <th>city_tier</th>\n",
       "      <td>0</td>\n",
       "    </tr>\n",
       "    <tr>\n",
       "      <th>age</th>\n",
       "      <td>0</td>\n",
       "    </tr>\n",
       "    <tr>\n",
       "      <th>total_programs_enrolled</th>\n",
       "      <td>0</td>\n",
       "    </tr>\n",
       "    <tr>\n",
       "      <th>is_handicapped</th>\n",
       "      <td>0</td>\n",
       "    </tr>\n",
       "    <tr>\n",
       "      <th>trainee_engagement_rating</th>\n",
       "      <td>0</td>\n",
       "    </tr>\n",
       "    <tr>\n",
       "      <th>is_pass</th>\n",
       "      <td>0</td>\n",
       "    </tr>\n",
       "  </tbody>\n",
       "</table>\n",
       "</div>"
      ],
      "text/plain": [
       "                           Null values\n",
       "id_num                               0\n",
       "program_type                         0\n",
       "program_id                           0\n",
       "program_duration                     0\n",
       "test_id                              0\n",
       "test_type                            0\n",
       "difficulty_level                     0\n",
       "trainee_id                           0\n",
       "gender                               0\n",
       "education                            0\n",
       "city_tier                            0\n",
       "age                                  0\n",
       "total_programs_enrolled              0\n",
       "is_handicapped                       0\n",
       "trainee_engagement_rating            0\n",
       "is_pass                              0"
      ]
     },
     "execution_count": 27,
     "metadata": {},
     "output_type": "execute_result"
    }
   ],
   "source": [
    "#检查是否有缺失值\n",
    "train.isnull().sum().to_frame().rename(columns={0:'Null values'})"
   ]
  },
  {
   "cell_type": "markdown",
   "metadata": {},
   "source": [
    "### 为模型导入做准备\n",
    "处理测试集，为了达到相同的数据格式\n",
    "需要对训练数据进行处理，还需要同时将测试数据同训练数据一起处理，使得二者具有相同的数据类型和数据分布。  \n"
   ]
  },
  {
   "cell_type": "code",
   "execution_count": 28,
   "metadata": {},
   "outputs": [],
   "source": [
    "test.difficulty_level[test.difficulty_level.isnull()] = test.difficulty_level.dropna().mode().values\n",
    "test.education[test.education.isnull()] = test.education.dropna().mode().values\n",
    "test.city_tier[test.city_tier.isnull()] = test.city_tier.dropna().mode().values\n",
    "test.age[test.age.isnull()] = test.age.dropna().mean()\n",
    "test.test_type[test.test_type.isnull()] = test.test_type.dropna().mode().values\n",
    "test.program_duration[test.program_duration.isnull()] = test.program_duration.dropna().mode().values\n",
    "test.total_programs_enrolled[test.total_programs_enrolled.isnull()] = test.total_programs_enrolled.dropna().mode().values\n",
    "test.is_handicapped[test.is_handicapped.isnull()] = test.is_handicapped.dropna().mode().values\n",
    "test.trainee_engagement_rating[test.trainee_engagement_rating.isnull()] = test.trainee_engagement_rating.dropna().mode().values\n",
    "\n",
    "#其他难以表示的缺失值直接删除\n",
    "train.dropna(axis=0, how='any', inplace=True)"
   ]
  },
  {
   "cell_type": "code",
   "execution_count": 29,
   "metadata": {},
   "outputs": [
    {
     "data": {
      "text/html": [
       "<div>\n",
       "<style scoped>\n",
       "    .dataframe tbody tr th:only-of-type {\n",
       "        vertical-align: middle;\n",
       "    }\n",
       "\n",
       "    .dataframe tbody tr th {\n",
       "        vertical-align: top;\n",
       "    }\n",
       "\n",
       "    .dataframe thead th {\n",
       "        text-align: right;\n",
       "    }\n",
       "</style>\n",
       "<table border=\"1\" class=\"dataframe\">\n",
       "  <thead>\n",
       "    <tr style=\"text-align: right;\">\n",
       "      <th></th>\n",
       "      <th>Null values</th>\n",
       "    </tr>\n",
       "  </thead>\n",
       "  <tbody>\n",
       "    <tr>\n",
       "      <th>id_num</th>\n",
       "      <td>0</td>\n",
       "    </tr>\n",
       "    <tr>\n",
       "      <th>program_type</th>\n",
       "      <td>0</td>\n",
       "    </tr>\n",
       "    <tr>\n",
       "      <th>program_id</th>\n",
       "      <td>0</td>\n",
       "    </tr>\n",
       "    <tr>\n",
       "      <th>program_duration</th>\n",
       "      <td>0</td>\n",
       "    </tr>\n",
       "    <tr>\n",
       "      <th>test_id</th>\n",
       "      <td>0</td>\n",
       "    </tr>\n",
       "    <tr>\n",
       "      <th>test_type</th>\n",
       "      <td>0</td>\n",
       "    </tr>\n",
       "    <tr>\n",
       "      <th>difficulty_level</th>\n",
       "      <td>0</td>\n",
       "    </tr>\n",
       "    <tr>\n",
       "      <th>trainee_id</th>\n",
       "      <td>0</td>\n",
       "    </tr>\n",
       "    <tr>\n",
       "      <th>gender</th>\n",
       "      <td>0</td>\n",
       "    </tr>\n",
       "    <tr>\n",
       "      <th>education</th>\n",
       "      <td>0</td>\n",
       "    </tr>\n",
       "    <tr>\n",
       "      <th>city_tier</th>\n",
       "      <td>0</td>\n",
       "    </tr>\n",
       "    <tr>\n",
       "      <th>age</th>\n",
       "      <td>0</td>\n",
       "    </tr>\n",
       "    <tr>\n",
       "      <th>total_programs_enrolled</th>\n",
       "      <td>0</td>\n",
       "    </tr>\n",
       "    <tr>\n",
       "      <th>is_handicapped</th>\n",
       "      <td>0</td>\n",
       "    </tr>\n",
       "    <tr>\n",
       "      <th>trainee_engagement_rating</th>\n",
       "      <td>0</td>\n",
       "    </tr>\n",
       "    <tr>\n",
       "      <th>is_pass</th>\n",
       "      <td>0</td>\n",
       "    </tr>\n",
       "  </tbody>\n",
       "</table>\n",
       "</div>"
      ],
      "text/plain": [
       "                           Null values\n",
       "id_num                               0\n",
       "program_type                         0\n",
       "program_id                           0\n",
       "program_duration                     0\n",
       "test_id                              0\n",
       "test_type                            0\n",
       "difficulty_level                     0\n",
       "trainee_id                           0\n",
       "gender                               0\n",
       "education                            0\n",
       "city_tier                            0\n",
       "age                                  0\n",
       "total_programs_enrolled              0\n",
       "is_handicapped                       0\n",
       "trainee_engagement_rating            0\n",
       "is_pass                              0"
      ]
     },
     "execution_count": 29,
     "metadata": {},
     "output_type": "execute_result"
    }
   ],
   "source": [
    "#检查是否有缺失值\n",
    "#找到每一列的缺失值\n",
    "train.isnull().sum().to_frame().rename(columns={0:'Null values'})"
   ]
  },
  {
   "cell_type": "markdown",
   "metadata": {},
   "source": [
    "看到全部都是0了，真是舒服极了"
   ]
  },
  {
   "cell_type": "code",
   "execution_count": 30,
   "metadata": {},
   "outputs": [],
   "source": [
    "#这个是特征性id\n",
    "id_col = 'id_num'\n",
    "#这个是预测目标\n",
    "target_col = 'is_pass'\n",
    "\n",
    "\n",
    "#数值类型的列\n",
    "digital_cols = ['program_duration','test_id','age','trainee_id','city_tier','total_programs_enrolled','trainee_engagement_rating']\n",
    "#非数值类型的列\n",
    "category_cols = ['program_type','test_type','difficulty_level','gender','education','is_handicapped']"
   ]
  },
  {
   "cell_type": "code",
   "execution_count": 31,
   "metadata": {},
   "outputs": [
    {
     "data": {
      "text/plain": [
       "['program_duration',\n",
       " 'test_id',\n",
       " 'age',\n",
       " 'trainee_id',\n",
       " 'city_tier',\n",
       " 'total_programs_enrolled',\n",
       " 'trainee_engagement_rating']"
      ]
     },
     "execution_count": 31,
     "metadata": {},
     "output_type": "execute_result"
    }
   ],
   "source": [
    "digital_cols"
   ]
  },
  {
   "cell_type": "markdown",
   "metadata": {},
   "source": [
    "处理数值行  \n",
    "做聚类分析的时候可以发现，聚类的效果往往特别受其中一列数据的影响，使得原本应该散布在二维平面图上的点，变成聚集在一条线上的点。所以为了避免这个情况，采用数据归一化处理，使数值落在【0，1】之间"
   ]
  },
  {
   "cell_type": "code",
   "execution_count": 32,
   "metadata": {},
   "outputs": [],
   "source": [
    "from sklearn.preprocessing import MinMaxScaler\n",
    "sacalar = MinMaxScaler()\n",
    "train_digital = sacalar.fit_transform(train[digital_cols])\n",
    "test_digital = sacalar.transform(test[digital_cols])"
   ]
  },
  {
   "cell_type": "markdown",
   "metadata": {},
   "source": [
    "处理非数值行  \n",
    "先看看单个变量之间的对通过率的影响  \n",
    "为了后续的特征分析"
   ]
  },
  {
   "cell_type": "code",
   "execution_count": 33,
   "metadata": {},
   "outputs": [
    {
     "name": "stderr",
     "output_type": "stream",
     "text": [
      "C:\\Users\\HUAWEI\\anaconda3\\lib\\site-packages\\sklearn\\utils\\validation.py:63: DataConversionWarning:\n",
      "\n",
      "A column-vector y was passed when a 1d array was expected. Please change the shape of y to (n_samples, ), for example using ravel().\n",
      "\n",
      "C:\\Users\\HUAWEI\\anaconda3\\lib\\site-packages\\sklearn\\utils\\validation.py:63: DataConversionWarning:\n",
      "\n",
      "A column-vector y was passed when a 1d array was expected. Please change the shape of y to (n_samples, ), for example using ravel().\n",
      "\n",
      "C:\\Users\\HUAWEI\\anaconda3\\lib\\site-packages\\sklearn\\utils\\validation.py:63: DataConversionWarning:\n",
      "\n",
      "A column-vector y was passed when a 1d array was expected. Please change the shape of y to (n_samples, ), for example using ravel().\n",
      "\n",
      "C:\\Users\\HUAWEI\\anaconda3\\lib\\site-packages\\sklearn\\utils\\validation.py:63: DataConversionWarning:\n",
      "\n",
      "A column-vector y was passed when a 1d array was expected. Please change the shape of y to (n_samples, ), for example using ravel().\n",
      "\n",
      "C:\\Users\\HUAWEI\\anaconda3\\lib\\site-packages\\sklearn\\utils\\validation.py:63: DataConversionWarning:\n",
      "\n",
      "A column-vector y was passed when a 1d array was expected. Please change the shape of y to (n_samples, ), for example using ravel().\n",
      "\n",
      "C:\\Users\\HUAWEI\\anaconda3\\lib\\site-packages\\sklearn\\utils\\validation.py:63: DataConversionWarning:\n",
      "\n",
      "A column-vector y was passed when a 1d array was expected. Please change the shape of y to (n_samples, ), for example using ravel().\n",
      "\n"
     ]
    }
   ],
   "source": [
    "from sklearn.preprocessing import LabelEncoder, OneHotEncoder\n",
    "\n",
    "train_category, test_category = None, None\n",
    "for col in category_cols:\n",
    "    lbe, ohe = LabelEncoder(), OneHotEncoder()\n",
    "    \n",
    "    #Fit label encoder and return encoded labels.\n",
    "    lbe.fit(pd.concat([train[col], test[col]]).values.reshape(-1, 1))#把列名塞到字典中\n",
    "    train[col] = lbe.transform(train[col])#进行transform得到索引值\n",
    "    test[col] = lbe.transform(test[col])#得到索引值\n",
    "    \n",
    "    #将分类特征编码为one-hot数字数组\n",
    "    ohe.fit(pd.concat([train[col], test[col]]).values.reshape(-1, 1))\n",
    "    oht_train = ohe.transform(train[col].values.reshape(-1, 1)).todense()\n",
    "    oht_test = ohe.transform(test[col].values.reshape(-1, 1)).todense()\n",
    "    \n",
    "    if train_category is None:\n",
    "        train_category = oht_train\n",
    "        test_category = oht_test\n",
    "    else:\n",
    "        train_category = np.hstack((train_category, oht_train))\n",
    "        test_category = np.hstack((test_category, oht_test))"
   ]
  },
  {
   "cell_type": "code",
   "execution_count": 34,
   "metadata": {},
   "outputs": [
    {
     "data": {
      "text/plain": [
       "((46504, 29), (11465, 29))"
      ]
     },
     "execution_count": 34,
     "metadata": {},
     "output_type": "execute_result"
    }
   ],
   "source": [
    "train_features = np.hstack((train_digital, train_category))#合并数值型和非数值型\n",
    "test_features = np.hstack((test_digital, test_category))\n",
    "train_features.shape, test_features.shape"
   ]
  },
  {
   "cell_type": "code",
   "execution_count": 35,
   "metadata": {},
   "outputs": [
    {
     "data": {
      "text/plain": [
       "((46504, 7), (11465, 7), (46504, 22), (11465, 22))"
      ]
     },
     "execution_count": 35,
     "metadata": {},
     "output_type": "execute_result"
    }
   ],
   "source": [
    "train_digital.shape, test_digital.shape, train_category.shape, test_category.shape"
   ]
  },
  {
   "cell_type": "code",
   "execution_count": 36,
   "metadata": {},
   "outputs": [
    {
     "data": {
      "text/plain": [
       "array([0, 1], dtype=int64)"
      ]
     },
     "execution_count": 36,
     "metadata": {},
     "output_type": "execute_result"
    }
   ],
   "source": [
    "train[target_col].unique()"
   ]
  },
  {
   "cell_type": "code",
   "execution_count": 37,
   "metadata": {},
   "outputs": [
    {
     "data": {
      "text/plain": [
       "0        0\n",
       "1        1\n",
       "2        1\n",
       "3        1\n",
       "4        1\n",
       "        ..\n",
       "49993    1\n",
       "49994    1\n",
       "49995    1\n",
       "49996    1\n",
       "49997    1\n",
       "Name: is_pass, Length: 46504, dtype: int64"
      ]
     },
     "execution_count": 37,
     "metadata": {},
     "output_type": "execute_result"
    }
   ],
   "source": [
    "train['is_pass'].dtype\n",
    "train_labels = train[target_col]\n",
    "train_labels"
   ]
  },
  {
   "cell_type": "code",
   "execution_count": 38,
   "metadata": {},
   "outputs": [
    {
     "data": {
      "text/plain": [
       "<AxesSubplot:ylabel='is_pass'>"
      ]
     },
     "execution_count": 38,
     "metadata": {},
     "output_type": "execute_result"
    },
    {
     "data": {
      "image/png": "[encoded data removed]",
      "text/plain": [
       "<Figure size 432x288 with 1 Axes>"
      ]
     },
     "metadata": {},
     "output_type": "display_data"
    }
   ],
   "source": [
    "#在可视化中使用所有数据\n",
    "df = pd.concat([train,test], axis=0)\n",
    "train['is_pass'].value_counts().plot.pie(autopct = '%1.2f%%')"
   ]
  },
  {
   "cell_type": "markdown",
   "metadata": {},
   "source": [
    "数据相关性分析中，经常用到data.corr()函数，data.corr()表示了data中的两个变量之间的相关性，取值范围为[-1,1],取值接近-1，表示反相关，类似反比例函数，取值接近1，表正相关。"
   ]
  },
  {
   "cell_type": "code",
   "execution_count": 39,
   "metadata": {
    "scrolled": true
   },
   "outputs": [
    {
     "data": {
      "text/html": [
       "<style  type=\"text/css\" >\n",
       "#T_efbb2c85_9eba_11eb_b8e7_b89a2a29314frow0_col0,#T_efbb2c85_9eba_11eb_b8e7_b89a2a29314frow1_col0,#T_efbb2c85_9eba_11eb_b8e7_b89a2a29314frow2_col0,#T_efbb2c85_9eba_11eb_b8e7_b89a2a29314frow3_col0,#T_efbb2c85_9eba_11eb_b8e7_b89a2a29314frow4_col0,#T_efbb2c85_9eba_11eb_b8e7_b89a2a29314frow5_col0,#T_efbb2c85_9eba_11eb_b8e7_b89a2a29314frow6_col0,#T_efbb2c85_9eba_11eb_b8e7_b89a2a29314frow7_col0,#T_efbb2c85_9eba_11eb_b8e7_b89a2a29314frow8_col0,#T_efbb2c85_9eba_11eb_b8e7_b89a2a29314frow9_col0,#T_efbb2c85_9eba_11eb_b8e7_b89a2a29314frow10_col0,#T_efbb2c85_9eba_11eb_b8e7_b89a2a29314frow11_col0,#T_efbb2c85_9eba_11eb_b8e7_b89a2a29314frow12_col0{\n",
       "            background-color:  #ebf3eb;\n",
       "            color:  #000000;\n",
       "        }</style><table id=\"T_efbb2c85_9eba_11eb_b8e7_b89a2a29314f\" ><thead>    <tr>        <th class=\"blank level0\" ></th>        <th class=\"col_heading level0 col0\" >is_pass</th>    </tr></thead><tbody>\n",
       "                <tr>\n",
       "                        <th id=\"T_efbb2c85_9eba_11eb_b8e7_b89a2a29314flevel0_row0\" class=\"row_heading level0 row0\" >trainee_engagement_rating</th>\n",
       "                        <td id=\"T_efbb2c85_9eba_11eb_b8e7_b89a2a29314frow0_col0\" class=\"data row0 col0\" >0.194157</td>\n",
       "            </tr>\n",
       "            <tr>\n",
       "                        <th id=\"T_efbb2c85_9eba_11eb_b8e7_b89a2a29314flevel0_row1\" class=\"row_heading level0 row1\" >test_type</th>\n",
       "                        <td id=\"T_efbb2c85_9eba_11eb_b8e7_b89a2a29314frow1_col0\" class=\"data row1 col0\" >0.150572</td>\n",
       "            </tr>\n",
       "            <tr>\n",
       "                        <th id=\"T_efbb2c85_9eba_11eb_b8e7_b89a2a29314flevel0_row2\" class=\"row_heading level0 row2\" >program_type</th>\n",
       "                        <td id=\"T_efbb2c85_9eba_11eb_b8e7_b89a2a29314frow2_col0\" class=\"data row2 col0\" >0.082905</td>\n",
       "            </tr>\n",
       "            <tr>\n",
       "                        <th id=\"T_efbb2c85_9eba_11eb_b8e7_b89a2a29314flevel0_row3\" class=\"row_heading level0 row3\" >test_id</th>\n",
       "                        <td id=\"T_efbb2c85_9eba_11eb_b8e7_b89a2a29314frow3_col0\" class=\"data row3 col0\" >0.074343</td>\n",
       "            </tr>\n",
       "            <tr>\n",
       "                        <th id=\"T_efbb2c85_9eba_11eb_b8e7_b89a2a29314flevel0_row4\" class=\"row_heading level0 row4\" >age</th>\n",
       "                        <td id=\"T_efbb2c85_9eba_11eb_b8e7_b89a2a29314frow4_col0\" class=\"data row4 col0\" >0.060022</td>\n",
       "            </tr>\n",
       "            <tr>\n",
       "                        <th id=\"T_efbb2c85_9eba_11eb_b8e7_b89a2a29314flevel0_row5\" class=\"row_heading level0 row5\" >trainee_id</th>\n",
       "                        <td id=\"T_efbb2c85_9eba_11eb_b8e7_b89a2a29314frow5_col0\" class=\"data row5 col0\" >0.037678</td>\n",
       "            </tr>\n",
       "            <tr>\n",
       "                        <th id=\"T_efbb2c85_9eba_11eb_b8e7_b89a2a29314flevel0_row6\" class=\"row_heading level0 row6\" >gender</th>\n",
       "                        <td id=\"T_efbb2c85_9eba_11eb_b8e7_b89a2a29314frow6_col0\" class=\"data row6 col0\" >0.021949</td>\n",
       "            </tr>\n",
       "            <tr>\n",
       "                        <th id=\"T_efbb2c85_9eba_11eb_b8e7_b89a2a29314flevel0_row7\" class=\"row_heading level0 row7\" >program_duration</th>\n",
       "                        <td id=\"T_efbb2c85_9eba_11eb_b8e7_b89a2a29314frow7_col0\" class=\"data row7 col0\" >0.005361</td>\n",
       "            </tr>\n",
       "            <tr>\n",
       "                        <th id=\"T_efbb2c85_9eba_11eb_b8e7_b89a2a29314flevel0_row8\" class=\"row_heading level0 row8\" >total_programs_enrolled</th>\n",
       "                        <td id=\"T_efbb2c85_9eba_11eb_b8e7_b89a2a29314frow8_col0\" class=\"data row8 col0\" >-0.031246</td>\n",
       "            </tr>\n",
       "            <tr>\n",
       "                        <th id=\"T_efbb2c85_9eba_11eb_b8e7_b89a2a29314flevel0_row9\" class=\"row_heading level0 row9\" >is_handicapped</th>\n",
       "                        <td id=\"T_efbb2c85_9eba_11eb_b8e7_b89a2a29314frow9_col0\" class=\"data row9 col0\" >-0.037329</td>\n",
       "            </tr>\n",
       "            <tr>\n",
       "                        <th id=\"T_efbb2c85_9eba_11eb_b8e7_b89a2a29314flevel0_row10\" class=\"row_heading level0 row10\" >city_tier</th>\n",
       "                        <td id=\"T_efbb2c85_9eba_11eb_b8e7_b89a2a29314frow10_col0\" class=\"data row10 col0\" >-0.065120</td>\n",
       "            </tr>\n",
       "            <tr>\n",
       "                        <th id=\"T_efbb2c85_9eba_11eb_b8e7_b89a2a29314flevel0_row11\" class=\"row_heading level0 row11\" >education</th>\n",
       "                        <td id=\"T_efbb2c85_9eba_11eb_b8e7_b89a2a29314frow11_col0\" class=\"data row11 col0\" >-0.080005</td>\n",
       "            </tr>\n",
       "            <tr>\n",
       "                        <th id=\"T_efbb2c85_9eba_11eb_b8e7_b89a2a29314flevel0_row12\" class=\"row_heading level0 row12\" >difficulty_level</th>\n",
       "                        <td id=\"T_efbb2c85_9eba_11eb_b8e7_b89a2a29314frow12_col0\" class=\"data row12 col0\" >-0.115164</td>\n",
       "            </tr>\n",
       "    </tbody></table>"
      ],
      "text/plain": [
       "<pandas.io.formats.style.Styler at 0x19fcca60070>"
      ]
     },
     "execution_count": 39,
     "metadata": {},
     "output_type": "execute_result"
    }
   ],
   "source": [
    "corr = train.corr()\n",
    "corr['is_pass'].sort_values(ascending=False)[1:].to_frame()\\\n",
    ".style.background_gradient(axis=1,cmap=sns.light_palette('green', as_cmap=True))"
   ]
  },
  {
   "cell_type": "code",
   "execution_count": 385,
   "metadata": {},
   "outputs": [],
   "source": [
    "Correlation = pd.DataFrame(train[\n",
    " ['trainee_engagement_rating', 'test_type', 'program_type', 'test_id', 'age', 'trainee_id','gender', 'program_duration', 'total_programs_enrolled', \n",
    "  'is_handicapped', 'city_tier']])"
   ]
  },
  {
   "cell_type": "code",
   "execution_count": 386,
   "metadata": {},
   "outputs": [
    {
     "data": {
      "text/plain": [
       "<AxesSubplot:title={'center':'Correlation of Features'}>"
      ]
     },
     "execution_count": 386,
     "metadata": {},
     "output_type": "execute_result"
    },
    {
     "data": {
      "image/png": "[encoded data removed]",
      "text/plain": [
       "<Figure size 1008x864 with 2 Axes>"
      ]
     },
     "metadata": {
      "needs_background": "light"
     },
     "output_type": "display_data"
    }
   ],
   "source": [
    "colormap = plt.cm.viridis\n",
    "plt.figure(figsize=(14,12))\n",
    "plt.title('Correlation of Features', y=1.05, size=15)\n",
    "sns.heatmap(Correlation.astype(float).corr(),linewidths=0.1,vmax=1.0, square=True, cmap=colormap, linecolor='white', annot=True)"
   ]
  },
  {
   "cell_type": "markdown",
   "metadata": {},
   "source": [
    "#### 性别与是否通过的关系  \n",
    "可见男女通过率相差不多，但是男生略胜一筹"
   ]
  },
  {
   "cell_type": "code",
   "execution_count": 387,
   "metadata": {},
   "outputs": [
    {
     "data": {
      "text/plain": [
       "<AxesSubplot:xlabel='gender'>"
      ]
     },
     "execution_count": 387,
     "metadata": {},
     "output_type": "execute_result"
    },
    {
     "data": {
      "image/png": "[encoded data removed]",
      "text/plain": [
       "<Figure size 432x288 with 1 Axes>"
      ]
     },
     "metadata": {
      "needs_background": "light"
     },
     "output_type": "display_data"
    }
   ],
   "source": [
    "train[['gender','is_pass']].groupby(['gender']).mean().plot.bar()"
   ]
  },
  {
   "cell_type": "markdown",
   "metadata": {},
   "source": [
    "#### 测试形式与是否通过的关系  \n",
    "分析可知线上测试的通过率更高"
   ]
  },
  {
   "cell_type": "code",
   "execution_count": 388,
   "metadata": {},
   "outputs": [
    {
     "data": {
      "text/plain": [
       "<AxesSubplot:xlabel='test_type'>"
      ]
     },
     "execution_count": 388,
     "metadata": {},
     "output_type": "execute_result"
    },
    {
     "data": {
      "image/png": "[encoded data removed]",
      "text/plain": [
       "<Figure size 432x288 with 1 Axes>"
      ]
     },
     "metadata": {
      "needs_background": "light"
     },
     "output_type": "display_data"
    }
   ],
   "source": [
    "train.groupby(['test_type','is_pass'])['is_pass'].count()\n",
    "train[['test_type','is_pass']].groupby(['test_type']).mean().plot.bar()"
   ]
  },
  {
   "cell_type": "markdown",
   "metadata": {},
   "source": [
    "#### 程序类型与是否通过的关系"
   ]
  },
  {
   "cell_type": "code",
   "execution_count": 389,
   "metadata": {},
   "outputs": [
    {
     "data": {
      "text/plain": [
       "<AxesSubplot:xlabel='program_type'>"
      ]
     },
     "execution_count": 389,
     "metadata": {},
     "output_type": "execute_result"
    },
    {
     "data": {
      "image/png": "[encoded data removed]",
      "text/plain": [
       "<Figure size 432x288 with 1 Axes>"
      ]
     },
     "metadata": {
      "needs_background": "light"
     },
     "output_type": "display_data"
    }
   ],
   "source": [
    "train.groupby(['program_type','is_pass'])['is_pass'].count()\n",
    "train[['program_type','is_pass']].groupby(['program_type']).mean().plot.bar()"
   ]
  },
  {
   "cell_type": "markdown",
   "metadata": {},
   "source": [
    "#### 计划持续时间与是否通过的关系"
   ]
  },
  {
   "cell_type": "code",
   "execution_count": 390,
   "metadata": {},
   "outputs": [
    {
     "data": {
      "text/plain": [
       "<AxesSubplot:xlabel='program_duration'>"
      ]
     },
     "execution_count": 390,
     "metadata": {},
     "output_type": "execute_result"
    },
    {
     "data": {
      "image/png": "[encoded data removed]",
      "text/plain": [
       "<Figure size 432x288 with 1 Axes>"
      ]
     },
     "metadata": {
      "needs_background": "light"
     },
     "output_type": "display_data"
    }
   ],
   "source": [
    "train.groupby(['program_duration','is_pass'])['is_pass'].count()\n",
    "train[['program_duration','is_pass']].groupby(['program_duration']).mean().plot.bar()"
   ]
  },
  {
   "cell_type": "markdown",
   "metadata": {},
   "source": [
    "#### 难度等级与是否通过的关系"
   ]
  },
  {
   "cell_type": "code",
   "execution_count": 391,
   "metadata": {},
   "outputs": [
    {
     "data": {
      "text/plain": [
       "<AxesSubplot:xlabel='difficulty_level'>"
      ]
     },
     "execution_count": 391,
     "metadata": {},
     "output_type": "execute_result"
    },
    {
     "data": {
      "image/png": "[encoded data removed]",
      "text/plain": [
       "<Figure size 432x288 with 1 Axes>"
      ]
     },
     "metadata": {
      "needs_background": "light"
     },
     "output_type": "display_data"
    }
   ],
   "source": [
    "train.groupby(['difficulty_level','is_pass'])['is_pass'].count()\n",
    "train[['difficulty_level','is_pass']].groupby(['difficulty_level']).mean().plot.bar()"
   ]
  },
  {
   "cell_type": "markdown",
   "metadata": {},
   "source": [
    "#### 教育与是否通过的关系"
   ]
  },
  {
   "cell_type": "code",
   "execution_count": 392,
   "metadata": {},
   "outputs": [
    {
     "data": {
      "text/plain": [
       "<AxesSubplot:xlabel='education'>"
      ]
     },
     "execution_count": 392,
     "metadata": {},
     "output_type": "execute_result"
    },
    {
     "data": {
      "image/png": "[encoded data removed]",
      "text/plain": [
       "<Figure size 432x288 with 1 Axes>"
      ]
     },
     "metadata": {
      "needs_background": "light"
     },
     "output_type": "display_data"
    }
   ],
   "source": [
    "train.groupby(['education','is_pass'])['is_pass'].count()\n",
    "train[['education','is_pass']].groupby(['education']).mean().plot.bar()"
   ]
  },
  {
   "cell_type": "markdown",
   "metadata": {},
   "source": [
    "#### 城市等级与是否通过的关系"
   ]
  },
  {
   "cell_type": "code",
   "execution_count": 393,
   "metadata": {},
   "outputs": [
    {
     "data": {
      "text/plain": [
       "<AxesSubplot:xlabel='city_tier'>"
      ]
     },
     "execution_count": 393,
     "metadata": {},
     "output_type": "execute_result"
    },
    {
     "data": {
      "image/png": "[encoded data removed]",
      "text/plain": [
       "<Figure size 432x288 with 1 Axes>"
      ]
     },
     "metadata": {
      "needs_background": "light"
     },
     "output_type": "display_data"
    }
   ],
   "source": [
    "train.groupby(['city_tier','is_pass'])['is_pass'].count()\n",
    "train[['city_tier','is_pass']].groupby(['city_tier']).mean().plot.bar()"
   ]
  },
  {
   "cell_type": "markdown",
   "metadata": {},
   "source": [
    "#### 总课程学生通过实习与是否通过的关系"
   ]
  },
  {
   "cell_type": "code",
   "execution_count": 394,
   "metadata": {},
   "outputs": [
    {
     "data": {
      "text/plain": [
       "<AxesSubplot:xlabel='total_programs_enrolled'>"
      ]
     },
     "execution_count": 394,
     "metadata": {},
     "output_type": "execute_result"
    },
    {
     "data": {
      "image/png": "[encoded data removed]",
      "text/plain": [
       "<Figure size 432x288 with 1 Axes>"
      ]
     },
     "metadata": {
      "needs_background": "light"
     },
     "output_type": "display_data"
    }
   ],
   "source": [
    "train.groupby(['total_programs_enrolled','is_pass'])['is_pass'].count()\n",
    "train[['total_programs_enrolled','is_pass']].groupby(['total_programs_enrolled']).mean().plot.bar()"
   ]
  },
  {
   "cell_type": "markdown",
   "metadata": {},
   "source": [
    "#### 是否残疾与是否通过的关系"
   ]
  },
  {
   "cell_type": "code",
   "execution_count": 395,
   "metadata": {},
   "outputs": [
    {
     "data": {
      "text/plain": [
       "<AxesSubplot:xlabel='is_handicapped'>"
      ]
     },
     "execution_count": 395,
     "metadata": {},
     "output_type": "execute_result"
    },
    {
     "data": {
      "image/png": "[encoded data removed]",
      "text/plain": [
       "<Figure size 432x288 with 1 Axes>"
      ]
     },
     "metadata": {
      "needs_background": "light"
     },
     "output_type": "display_data"
    }
   ],
   "source": [
    "train.groupby(['is_handicapped','is_pass'])['is_pass'].count()\n",
    "train[['is_handicapped','is_pass']].groupby(['is_handicapped']).mean().plot.bar()"
   ]
  },
  {
   "cell_type": "markdown",
   "metadata": {},
   "source": [
    "#### 讲师/教学助理为课程提供学员参与度"
   ]
  },
  {
   "cell_type": "code",
   "execution_count": 396,
   "metadata": {},
   "outputs": [
    {
     "data": {
      "text/plain": [
       "<AxesSubplot:xlabel='trainee_engagement_rating'>"
      ]
     },
     "execution_count": 396,
     "metadata": {},
     "output_type": "execute_result"
    },
    {
     "data": {
      "image/png": "[encoded data removed]",
      "text/plain": [
       "<Figure size 432x288 with 1 Axes>"
      ]
     },
     "metadata": {
      "needs_background": "light"
     },
     "output_type": "display_data"
    }
   ],
   "source": [
    "train.groupby(['trainee_engagement_rating','is_pass'])['is_pass'].count()\n",
    "train[['trainee_engagement_rating','is_pass']].groupby(['trainee_engagement_rating']).mean().plot.bar()"
   ]
  },
  {
   "cell_type": "code",
   "execution_count": 397,
   "metadata": {},
   "outputs": [
    {
     "data": {
      "image/png": "[encoded data removed]",
      "text/plain": [
       "<Figure size 864x360 with 2 Axes>"
      ]
     },
     "metadata": {
      "needs_background": "light"
     },
     "output_type": "display_data"
    }
   ],
   "source": [
    "#总体的年龄分布\n",
    "plt.figure(figsize=(12,5))\n",
    "plt.subplot(121)\n",
    "train['age'].hist(bins=70)\n",
    "plt.xlabel('age')\n",
    "plt.ylabel('Num')\n",
    "\n",
    "plt.subplot(122)\n",
    "train.boxplot(column='age', showfliers=False)\n",
    "plt.show()"
   ]
  },
  {
   "cell_type": "code",
   "execution_count": 398,
   "metadata": {},
   "outputs": [
    {
     "data": {
      "text/plain": [
       "<seaborn.axisgrid.FacetGrid at 0x200cac8bd00>"
      ]
     },
     "execution_count": 398,
     "metadata": {},
     "output_type": "execute_result"
    },
    {
     "data": {
      "image/png": "[encoded data removed]",
      "text/plain": [
       "<Figure size 908x216 with 1 Axes>"
      ]
     },
     "metadata": {
      "needs_background": "light"
     },
     "output_type": "display_data"
    }
   ],
   "source": [
    "#不同年龄下的通过率分析\n",
    "facet = sns.FacetGrid(train, hue=\"is_pass\",aspect=4)\n",
    "facet.map(sns.kdeplot,'age',shade= True)\n",
    "facet.set(xlim=(0, train['age'].max()))\n",
    "facet.add_legend()"
   ]
  },
  {
   "cell_type": "code",
   "execution_count": 399,
   "metadata": {},
   "outputs": [
    {
     "name": "stderr",
     "output_type": "stream",
     "text": [
      "C:\\Users\\HUAWEI\\anaconda3\\lib\\site-packages\\seaborn\\_decorators.py:36: FutureWarning:\n",
      "\n",
      "Pass the following variables as keyword args: x, y. From version 0.12, the only valid positional argument will be `data`, and passing other arguments without an explicit keyword will result in an error or misinterpretation.\n",
      "\n",
      "C:\\Users\\HUAWEI\\anaconda3\\lib\\site-packages\\seaborn\\_decorators.py:36: FutureWarning:\n",
      "\n",
      "Pass the following variables as keyword args: x, y. From version 0.12, the only valid positional argument will be `data`, and passing other arguments without an explicit keyword will result in an error or misinterpretation.\n",
      "\n"
     ]
    },
    {
     "data": {
      "image/png": "[encoded data removed]",
      "text/plain": [
       "<Figure size 1296x576 with 2 Axes>"
      ]
     },
     "metadata": {
      "needs_background": "light"
     },
     "output_type": "display_data"
    }
   ],
   "source": [
    "fig, ax = plt.subplots(1, 2, figsize = (18, 8))\n",
    "sns.violinplot(\"program_type\", \"age\", hue=\"is_pass\", data=train, split=True, ax=ax[0])\n",
    "ax[0].set_title('Program_type and Age VS Is_pass')\n",
    "ax[0].set_yticks(range(0, 110, 10))\n",
    "\n",
    "sns.violinplot(\"trainee_engagement_rating\", \"age\", hue=\"is_pass\", data=train, split=True, ax=ax[1])\n",
    "ax[1].set_title('Trainee_engagement_rating and Age vs Is_pass')\n",
    "ax[1].set_yticks(range(0, 110, 10))\n",
    "\n",
    "plt.show()"
   ]
  },
  {
   "cell_type": "code",
   "execution_count": 427,
   "metadata": {},
   "outputs": [],
   "source": [
    "#数值类型的列\n",
    "digital_cols = ['test_id','age','trainee_engagement_rating']\n",
    "#非数值类型的列\n",
    "category_cols = ['program_type','test_type','gender']"
   ]
  },
  {
   "cell_type": "markdown",
   "metadata": {},
   "source": [
    "关于标签的处理"
   ]
  },
  {
   "cell_type": "markdown",
   "metadata": {},
   "source": [
    "#数值类型的列  \n",
    "digital_cols = ['program_duration','test_id','trainee_id','city_tier','total_programs_enrolled','trainee_engagement_rating']  \n",
    "#非数值类型的列  \n",
    "category_cols = ['program_type','test_type','difficulty_level','gender','education','is_handicapped']  "
   ]
  },
  {
   "cell_type": "markdown",
   "metadata": {},
   "source": [
    "第三次调整标签\n",
    "#数值类型的列\n",
    "digital_cols = ['test_id','age','trainee_engagement_rating']\n",
    "#非数值类型的列\n",
    "category_cols = ['program_type','test_type','gender']"
   ]
  },
  {
   "cell_type": "markdown",
   "metadata": {},
   "source": [
    "## 使用单个模型 线性回归 逻辑回归 KNN 随机森林"
   ]
  },
  {
   "cell_type": "markdown",
   "metadata": {},
   "source": [
    "### 训练线性回归模型"
   ]
  },
  {
   "cell_type": "code",
   "execution_count": 428,
   "metadata": {},
   "outputs": [
    {
     "data": {
      "text/plain": [
       "\"from sklearn.linear_model import LinearRegression\\n\\nclf = LinearRegression()\\nclf.fit(train_features, train_labels)\\n\\npredictions = clf.predict(test_features)\\npredictions.shape\\n\\npredictions.mean()\\n\\n\\n\\nsub = test[['id_num']].copy()\\nsub['is_pass'] = predictions\\nsub['is_pass'] = sub['is_pass'].apply(lambda x: 1 if x > 0 else 0)\\nsub.to_csv('mid_term_exams/data/submission/submission.csv', index=False)\\n\""
      ]
     },
     "execution_count": 428,
     "metadata": {},
     "output_type": "execute_result"
    }
   ],
   "source": [
    "\"\"\"from sklearn.linear_model import LinearRegression\n",
    "\n",
    "clf = LinearRegression()\n",
    "clf.fit(train_features, train_labels)\n",
    "\n",
    "predictions = clf.predict(test_features)\n",
    "predictions.shape\n",
    "\n",
    "predictions.mean()\n",
    "\n",
    "\n",
    "\n",
    "sub = test[['id_num']].copy()\n",
    "sub['is_pass'] = predictions\n",
    "sub['is_pass'] = sub['is_pass'].apply(lambda x: 1 if x > 0 else 0)\n",
    "sub.to_csv('mid_term_exams/data/submission/submission.csv', index=False)\n",
    "\"\"\""
   ]
  },
  {
   "cell_type": "code",
   "execution_count": 442,
   "metadata": {},
   "outputs": [],
   "source": [
    "#Common Model Algorithms\n",
    "from sklearn import ensemble"
   ]
  },
  {
   "cell_type": "code",
   "execution_count": 430,
   "metadata": {},
   "outputs": [],
   "source": [
    "#Common Model Helpers\n",
    "from sklearn.preprocessing import OneHotEncoder, LabelEncoder\n",
    "from sklearn import feature_selection\n",
    "from sklearn import model_selection\n",
    "from sklearn import metrics"
   ]
  },
  {
   "cell_type": "markdown",
   "metadata": {},
   "source": [
    "### 训练逻辑回归"
   ]
  },
  {
   "cell_type": "code",
   "execution_count": 431,
   "metadata": {},
   "outputs": [
    {
     "data": {
      "text/plain": [
       "\"from sklearn.linear_model import LogisticRegression\\n\\nclassifier = LogisticRegression()\\nclassifier.fit(train_features, train_labels)\\n\\npredictions = classifier.predict(test_features)\\npredictions.shape\\n\\npredictions.mean()\\n\\nsub = test[['id_num']].copy()\\nsub['is_pass'] = predictions\\nsub['is_pass'] = sub['is_pass'].apply(lambda x: 1 if x > 0 else 0)\\nsub.to_csv('mid_term_exams/data/submission/submission.csv', index=False)\""
      ]
     },
     "execution_count": 431,
     "metadata": {},
     "output_type": "execute_result"
    }
   ],
   "source": [
    "\"\"\"from sklearn.linear_model import LogisticRegression\n",
    "\n",
    "classifier = LogisticRegression()\n",
    "classifier.fit(train_features, train_labels)\n",
    "\n",
    "predictions = classifier.predict(test_features)\n",
    "predictions.shape\n",
    "\n",
    "predictions.mean()\n",
    "\n",
    "sub = test[['id_num']].copy()\n",
    "sub['is_pass'] = predictions\n",
    "sub['is_pass'] = sub['is_pass'].apply(lambda x: 1 if x > 0 else 0)\n",
    "sub.to_csv('mid_term_exams/data/submission/submission.csv', index=False)\n",
    "\"\"\""
   ]
  },
  {
   "cell_type": "markdown",
   "metadata": {},
   "source": [
    "### 实现KNN算法"
   ]
  },
  {
   "cell_type": "code",
   "execution_count": 432,
   "metadata": {},
   "outputs": [
    {
     "data": {
      "text/plain": [
       "\"from sklearn import neighbors\\n\\nknn = neighbors.KNeighborsClassifier()\\nknn.fit(train_features, train_labels)\\n\\npredictions = knn.predict(test_features)\\npredictions.shape\\n\\nsub = test[['id_num']].copy()\\nsub['is_pass'] = predictions\\nsub['is_pass'] = sub['is_pass'].apply(lambda x: 1 if x > 0 else 0)\\nsub.to_csv('mid_term_exams/data/submission/submission.csv', index=False)\""
      ]
     },
     "execution_count": 432,
     "metadata": {},
     "output_type": "execute_result"
    }
   ],
   "source": [
    "\"\"\"\n",
    "from sklearn import neighbors\n",
    "\n",
    "knn = neighbors.KNeighborsClassifier()\n",
    "knn.fit(train_features, train_labels)\n",
    "\n",
    "predictions = knn.predict(test_features)\n",
    "predictions.shape\n",
    "\n",
    "sub = test[['id_num']].copy()\n",
    "sub['is_pass'] = predictions\n",
    "sub['is_pass'] = sub['is_pass'].apply(lambda x: 1 if x > 0 else 0)\n",
    "sub.to_csv('mid_term_exams/data/submission/submission.csv', index=False)\n",
    "\"\"\""
   ]
  },
  {
   "cell_type": "markdown",
   "metadata": {},
   "source": [
    "通过上面对相关性的了解 尝试去掉一些对目标影响大或不大的特征 可发现并没有出现相关性很强的 所以不用担心多重共线性问题  "
   ]
  },
  {
   "cell_type": "code",
   "execution_count": 441,
   "metadata": {},
   "outputs": [],
   "source": [
    "from sklearn.model_selection import GridSearchCV\n",
    "from sklearn.model_selection import RandomizedSearchCV"
   ]
  },
  {
   "cell_type": "code",
   "execution_count": 436,
   "metadata": {},
   "outputs": [
    {
     "data": {
      "text/plain": [
       "\"from sklearn.ensemble import RandomForestClassifier\\n\\nparam_grid = [\\n{'n_estimators': [3, 10, 30], 'max_features': [4, 6, 8]},\\n{'bootstrap': [False], 'n_estimators': [3, 30], 'max_features': [4, 5, 6]},\\n]\\n \\nforest_reg = RandomForestClassifier()\\ngrid_search = GridSearchCV(forest_reg, param_grid, cv=5,\\n                          scoring='neg_mean_squared_error')\\n \\ngrid_search.fit(train_features, train_labels)\\n\\ngrid_search.best_params_\""
      ]
     },
     "execution_count": 436,
     "metadata": {},
     "output_type": "execute_result"
    }
   ],
   "source": [
    "\"\"\"\n",
    "from sklearn.ensemble import RandomForestClassifier\n",
    "\n",
    "param_grid = [\n",
    "{'n_estimators': [3, 10, 30], 'max_features': [4, 6, 8]},\n",
    "{'bootstrap': [False], 'n_estimators': [3, 30], 'max_features': [4, 5, 6]},\n",
    "]\n",
    " \n",
    "forest_reg = RandomForestClassifier()\n",
    "grid_search = GridSearchCV(forest_reg, param_grid, cv=5,\n",
    "                          scoring='neg_mean_squared_error')\n",
    " \n",
    "grid_search.fit(train_features, train_labels)\n",
    "\n",
    "grid_search.best_params_\n",
    "\"\"\""
   ]
  },
  {
   "cell_type": "code",
   "execution_count": 437,
   "metadata": {},
   "outputs": [
    {
     "data": {
      "text/plain": [
       "\"from sklearn.ensemble import RandomForestClassifier\\nrf0 = RandomForestClassifier(oob_score=True,random_state=10)\\nrf0.fit(train_features, train_labels)\\nrtr =rf0.predict(test_features)\\n\\nsub = test[['id_num']].copy()\\nsub['is_pass'] = rtr\\nsub['is_pass'] = sub['is_pass'].apply(lambda x: 1 if x > 0 else 0)\\nsub.to_csv('mid_term_exams/data/submission/submission.csv', index=False)\""
      ]
     },
     "execution_count": 437,
     "metadata": {},
     "output_type": "execute_result"
    }
   ],
   "source": [
    "\"\"\"\n",
    "rf0 = RandomForestClassifier(oob_score=True,random_state=10)\n",
    "rf0.fit(train_features, train_labels)\n",
    "rtr =rf0.predict(test_features)\n",
    "\n",
    "sub = test[['id_num']].copy()\n",
    "sub['is_pass'] = rtr\n",
    "sub['is_pass'] = sub['is_pass'].apply(lambda x: 1 if x > 0 else 0)\n",
    "sub.to_csv('mid_term_exams/data/submission/submission.csv', index=False)\n",
    "\n",
    "\"\"\""
   ]
  },
  {
   "cell_type": "markdown",
   "metadata": {},
   "source": [
    "如果使用默认设置会小于通过"
   ]
  },
  {
   "cell_type": "markdown",
   "metadata": {},
   "source": [
    "第四次调整特征个数，7.1177，但是没有上升很多"
   ]
  },
  {
   "cell_type": "markdown",
   "metadata": {},
   "source": [
    "第三次的参数改变有7.15"
   ]
  },
  {
   "cell_type": "markdown",
   "metadata": {},
   "source": [
    "根据相关性 删减一些列，再带入knn，线性回归，xgboost，逻辑回归算法当中，发现只有knn的准确率更高了，但是增加并不明显，\n",
    "根据k折交叉验证，调整最适参数，但是模型预测还是不太提升  \n",
    "所以还需要做一些新的特征"
   ]
  },
  {
   "cell_type": "code",
   "execution_count": 444,
   "metadata": {},
   "outputs": [
    {
     "data": {
      "text/plain": [
       "'\\n\\nfrom sklearn.model_selection import train_test_split\\nfrom sklearn.model_selection import cross_val_score\\n\\nknn = neighbors.KNeighborsClassifier()\\nscores1 = cross_val_score(knn, train_features, train_labels, cv=10, scoring=\\'accuracy\\')\\nclf = AdaBoostClassifier()\\nscores2 = cross_val_score(clf, train_features, train_labels, cv=10, scoring=\\'accuracy\\')\\nrf0 = RandomForestClassifier(oob_score=True,random_state=10)\\nscores3 = cross_val_score(rf0, train_features, train_labels, cv=10, scoring=\\'accuracy\\')\\nprint(scores1)\\nprint(\"-\"*10)\\nprint(scores2)\\nprint(\\'-\\'*10)\\nprint(scores3)\\n\\n'"
      ]
     },
     "execution_count": 444,
     "metadata": {},
     "output_type": "execute_result"
    }
   ],
   "source": [
    "\"\"\"\n",
    "\n",
    "from sklearn.model_selection import train_test_split\n",
    "from sklearn.model_selection import cross_val_score\n",
    "\n",
    "knn = neighbors.KNeighborsClassifier()\n",
    "scores1 = cross_val_score(knn, train_features, train_labels, cv=10, scoring='accuracy')\n",
    "clf = AdaBoostClassifier()\n",
    "scores2 = cross_val_score(clf, train_features, train_labels, cv=10, scoring='accuracy')\n",
    "rf0 = RandomForestClassifier(oob_score=True,random_state=10)\n",
    "scores3 = cross_val_score(rf0, train_features, train_labels, cv=10, scoring='accuracy')\n",
    "print(scores1)\n",
    "print(\"-\"*10)\n",
    "print(scores2)\n",
    "print('-'*10)\n",
    "print(scores3)\n",
    "\n",
    "\"\"\""
   ]
  },
  {
   "cell_type": "markdown",
   "metadata": {},
   "source": [
    "### 特征选择（缺失）"
   ]
  },
  {
   "cell_type": "markdown",
   "metadata": {},
   "source": [
    "选择有意义的特征输入机器学习的算法和模型进行训练。  \n",
    "从两个方面考虑来选择特征：  \n",
    "###### 特征是否发散：\n",
    "如果一个特征不发散，例如方差接近于0，也就是说样本在这个特征上基本上没有差异，这个特征对于样本的区分并没有什么用。  \n",
    "###### 特征与目标的相关性：\n",
    "与目标相关性高的特征，应当优先选择。  \n",
    "根据特征选择的形式又可以将特征选择方法分为3种：  \n",
    "###### Filter：过滤法\n",
    "按照发散性或者相关性对各个特征进行评分，设定阈值或者待选择阈值的个数，选择特征。  \n",
    "###### Wrapper：包装法\n",
    "根据目标函数（通常是预测效果评分），每次选择若干特征，或者排除若干特征。  \n",
    "###### Embedded：嵌入法\n",
    "先使用某些机器学习的算法和模型进行训练，得到各个特征的权值系数，根据系数从大到小选择特征。类似于Filter方法，但是是通过训练来确定特征的优劣。　"
   ]
  },
  {
   "cell_type": "markdown",
   "metadata": {},
   "source": [
    "## 集成学习"
   ]
  },
  {
   "cell_type": "code",
   "execution_count": 439,
   "metadata": {},
   "outputs": [],
   "source": [
    "from sklearn.tree import DecisionTreeClassifier\n",
    "from sklearn.ensemble import BaggingClassifier\n",
    "tree = DecisionTreeClassifier(criterion='entropy', max_depth=None)\n",
    "# 生成500个决策树\n",
    "bag = BaggingClassifier(base_estimator=tree, n_estimators=500, max_samples=1.0, max_features=1.0, bootstrap=True, bootstrap_features=False, n_jobs=1, random_state=1)\n",
    "\n",
    "# 度量bagging分类器的准确性\n",
    "bag = bag.fit(train_features, train_labels)\n",
    "y_test_pred = bag.predict(test_features)"
   ]
  },
  {
   "cell_type": "code",
   "execution_count": 440,
   "metadata": {},
   "outputs": [],
   "source": [
    "sub = test[['id_num']].copy()\n",
    "sub['is_pass'] =y_test_pred\n",
    "sub['is_pass'] = sub['is_pass'].apply(lambda x: 1 if x > 0 else 0)\n",
    "sub.to_csv('mid_term_exams/data/submission/submission.csv', index=False)"
   ]
  },
  {
   "cell_type": "markdown",
   "metadata": {},
   "source": [
    "确实强大，但是还不够，为什么还是只有那么一点的升高"
   ]
  },
  {
   "cell_type": "markdown",
   "metadata": {},
   "source": [
    "应用和总结详见文档"
   ]
  },
  {
   "cell_type": "code",
   "execution_count": null,
   "metadata": {},
   "outputs": [],
   "source": []
  }
 ],
 "metadata": {
  "kernelspec": {
   "display_name": "Python 3",
   "language": "python",
   "name": "python3"
  },
  "language_info": {
   "codemirror_mode": {
    "name": "ipython",
    "version": 3
   },
   "file_extension": ".py",
   "mimetype": "text/x-python",
   "name": "python",
   "nbconvert_exporter": "python",
   "pygments_lexer": "ipython3",
   "version": "3.8.5"
  }
 },
 "nbformat": 4,
 "nbformat_minor": 4
}
